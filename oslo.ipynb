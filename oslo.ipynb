{
 "cells": [
  {
   "cell_type": "code",
   "execution_count": 1,
   "id": "eb2c24bc",
   "metadata": {},
   "outputs": [],
   "source": [
    "import streamlit as st\n",
    "import pandas as pd\n",
    "import matplotlib.pyplot as plt\n",
    "import seaborn as sns"
   ]
  },
  {
   "cell_type": "code",
   "execution_count": 2,
   "id": "27b67a0a",
   "metadata": {},
   "outputs": [],
   "source": [
    "df = pd.read_csv('listings_50_outliers_oslo.csv')"
   ]
  },
  {
   "cell_type": "code",
   "execution_count": null,
   "id": "5f77c7b5",
   "metadata": {},
   "outputs": [],
   "source": []
  },
  {
   "cell_type": "code",
   "execution_count": 8,
   "id": "e8b8752b",
   "metadata": {},
   "outputs": [
    {
     "name": "stdout",
     "output_type": "stream",
     "text": [
      "<class 'pandas.core.frame.DataFrame'>\n",
      "RangeIndex: 10452 entries, 0 to 10451\n",
      "Data columns (total 50 columns):\n",
      " #   Column                                        Non-Null Count  Dtype  \n",
      "---  ------                                        --------------  -----  \n",
      " 0   last_scraped                                  10452 non-null  object \n",
      " 1   host_name                                     10452 non-null  object \n",
      " 2   host_since                                    10452 non-null  object \n",
      " 3   host_location                                 10452 non-null  object \n",
      " 4   host_response_time                            10452 non-null  object \n",
      " 5   host_response_rate                            10452 non-null  object \n",
      " 6   host_acceptance_rate                          10452 non-null  object \n",
      " 7   host_is_superhost                             10452 non-null  object \n",
      " 8   host_has_profile_pic                          10452 non-null  object \n",
      " 9   host_identity_verified                        10452 non-null  object \n",
      " 10  property_type                                 10452 non-null  object \n",
      " 11  room_type                                     10452 non-null  object \n",
      " 12  bathrooms_text                                10452 non-null  object \n",
      " 13  price                                         10452 non-null  float64\n",
      " 14  has_availability                              10452 non-null  object \n",
      " 15  calendar_last_scraped                         10452 non-null  object \n",
      " 16  first_review                                  10452 non-null  object \n",
      " 17  last_review                                   10452 non-null  object \n",
      " 18  license                                       10452 non-null  object \n",
      " 19  instant_bookable                              10452 non-null  object \n",
      " 20  id                                            10452 non-null  float64\n",
      " 21  host_id                                       10452 non-null  int64  \n",
      " 22  host_listings_count                           10452 non-null  float64\n",
      " 23  host_total_listings_count                     10452 non-null  float64\n",
      " 24  accommodates                                  10452 non-null  float64\n",
      " 25  bathrooms                                     10452 non-null  int64  \n",
      " 26  bedrooms                                      10452 non-null  float64\n",
      " 27  beds                                          10452 non-null  float64\n",
      " 28  minimum_nights                                10452 non-null  float64\n",
      " 29  maximum_nights                                10452 non-null  float64\n",
      " 30  minimum_minimum_nights                        10452 non-null  float64\n",
      " 31  maximum_minimum_nights                        10452 non-null  float64\n",
      " 32  minimum_maximum_nights                        10452 non-null  float64\n",
      " 33  maximum_maximum_nights                        10452 non-null  float64\n",
      " 34  minimum_nights_avg_ntm                        10452 non-null  float64\n",
      " 35  maximum_nights_avg_ntm                        10452 non-null  float64\n",
      " 36  availability_30                               10452 non-null  int64  \n",
      " 37  availability_90                               10452 non-null  int64  \n",
      " 38  number_of_reviews                             10452 non-null  float64\n",
      " 39  number_of_reviews_ltm                         10452 non-null  float64\n",
      " 40  number_of_reviews_l30d                        10452 non-null  float64\n",
      " 41  review_scores_rating                          10452 non-null  float64\n",
      " 42  review_scores_accuracy                        10452 non-null  float64\n",
      " 43  review_scores_cleanliness                     10452 non-null  float64\n",
      " 44  review_scores_checkin                         10452 non-null  float64\n",
      " 45  review_scores_location                        10452 non-null  float64\n",
      " 46  calculated_host_listings_count_entire_homes   10452 non-null  int64  \n",
      " 47  calculated_host_listings_count_private_rooms  10452 non-null  int64  \n",
      " 48  calculated_host_listings_count_shared_rooms   10452 non-null  int64  \n",
      " 49  reviews_per_month                             10452 non-null  float64\n",
      "dtypes: float64(24), int64(7), object(19)\n",
      "memory usage: 4.0+ MB\n"
     ]
    }
   ],
   "source": [
    "df.info()"
   ]
  },
  {
   "cell_type": "code",
   "execution_count": 4,
   "id": "33c31d2a",
   "metadata": {},
   "outputs": [],
   "source": [
    "df.drop(columns=['Unnamed: 0'], inplace=True)"
   ]
  },
  {
   "cell_type": "code",
   "execution_count": 6,
   "id": "57c8bd52",
   "metadata": {},
   "outputs": [
    {
     "name": "stdout",
     "output_type": "stream",
     "text": [
      "<class 'pandas.core.frame.DataFrame'>\n",
      "RangeIndex: 10452 entries, 0 to 10451\n",
      "Data columns (total 50 columns):\n",
      " #   Column                                        Non-Null Count  Dtype  \n",
      "---  ------                                        --------------  -----  \n",
      " 0   last_scraped                                  10452 non-null  object \n",
      " 1   host_name                                     10452 non-null  object \n",
      " 2   host_since                                    10452 non-null  object \n",
      " 3   host_location                                 10452 non-null  object \n",
      " 4   host_response_time                            10452 non-null  object \n",
      " 5   host_response_rate                            10452 non-null  object \n",
      " 6   host_acceptance_rate                          10452 non-null  object \n",
      " 7   host_is_superhost                             10452 non-null  object \n",
      " 8   host_has_profile_pic                          10452 non-null  object \n",
      " 9   host_identity_verified                        10452 non-null  object \n",
      " 10  property_type                                 10452 non-null  object \n",
      " 11  room_type                                     10452 non-null  object \n",
      " 12  bathrooms_text                                10452 non-null  object \n",
      " 13  price                                         10452 non-null  float64\n",
      " 14  has_availability                              10452 non-null  object \n",
      " 15  calendar_last_scraped                         10452 non-null  object \n",
      " 16  first_review                                  10452 non-null  object \n",
      " 17  last_review                                   10452 non-null  object \n",
      " 18  license                                       10452 non-null  object \n",
      " 19  instant_bookable                              10452 non-null  object \n",
      " 20  id                                            10452 non-null  float64\n",
      " 21  host_id                                       10452 non-null  int64  \n",
      " 22  host_listings_count                           10452 non-null  float64\n",
      " 23  host_total_listings_count                     10452 non-null  float64\n",
      " 24  accommodates                                  10452 non-null  float64\n",
      " 25  bathrooms                                     10452 non-null  int64  \n",
      " 26  bedrooms                                      10452 non-null  float64\n",
      " 27  beds                                          10452 non-null  float64\n",
      " 28  minimum_nights                                10452 non-null  float64\n",
      " 29  maximum_nights                                10452 non-null  float64\n",
      " 30  minimum_minimum_nights                        10452 non-null  float64\n",
      " 31  maximum_minimum_nights                        10452 non-null  float64\n",
      " 32  minimum_maximum_nights                        10452 non-null  float64\n",
      " 33  maximum_maximum_nights                        10452 non-null  float64\n",
      " 34  minimum_nights_avg_ntm                        10452 non-null  float64\n",
      " 35  maximum_nights_avg_ntm                        10452 non-null  float64\n",
      " 36  availability_30                               10452 non-null  int64  \n",
      " 37  availability_90                               10452 non-null  int64  \n",
      " 38  number_of_reviews                             10452 non-null  float64\n",
      " 39  number_of_reviews_ltm                         10452 non-null  float64\n",
      " 40  number_of_reviews_l30d                        10452 non-null  float64\n",
      " 41  review_scores_rating                          10452 non-null  float64\n",
      " 42  review_scores_accuracy                        10452 non-null  float64\n",
      " 43  review_scores_cleanliness                     10452 non-null  float64\n",
      " 44  review_scores_checkin                         10452 non-null  float64\n",
      " 45  review_scores_location                        10452 non-null  float64\n",
      " 46  calculated_host_listings_count_entire_homes   10452 non-null  int64  \n",
      " 47  calculated_host_listings_count_private_rooms  10452 non-null  int64  \n",
      " 48  calculated_host_listings_count_shared_rooms   10452 non-null  int64  \n",
      " 49  reviews_per_month                             10452 non-null  float64\n",
      "dtypes: float64(24), int64(7), object(19)\n",
      "memory usage: 4.0+ MB\n"
     ]
    }
   ],
   "source": [
    "df.info()"
   ]
  },
  {
   "cell_type": "code",
   "execution_count": 13,
   "id": "1ea80239",
   "metadata": {},
   "outputs": [
    {
     "ename": "TypeError",
     "evalue": "'NoneType' object is not subscriptable",
     "output_type": "error",
     "traceback": [
      "\u001b[1;31m---------------------------------------------------------------------------\u001b[0m",
      "\u001b[1;31mTypeError\u001b[0m                                 Traceback (most recent call last)",
      "Cell \u001b[1;32mIn[13], line 1\u001b[0m\n\u001b[1;32m----> 1\u001b[0m \u001b[43mdf\u001b[49m\u001b[43m[\u001b[49m\u001b[38;5;124;43m'\u001b[39;49m\u001b[38;5;124;43mavailability_30\u001b[39;49m\u001b[38;5;124;43m'\u001b[39;49m\u001b[43m]\u001b[49m\u001b[38;5;241m.\u001b[39minfo()\n",
      "\u001b[1;31mTypeError\u001b[0m: 'NoneType' object is not subscriptable"
     ]
    }
   ],
   "source": [
    "df['availability_30'].info()"
   ]
  },
  {
   "cell_type": "code",
   "execution_count": 10,
   "id": "1f26d274",
   "metadata": {},
   "outputs": [],
   "source": [
    "df=df.to_csv('listings_50_outliers_oslo2.csv', index=False)"
   ]
  }
 ],
 "metadata": {
  "kernelspec": {
   "display_name": "Python 3",
   "language": "python",
   "name": "python3"
  },
  "language_info": {
   "codemirror_mode": {
    "name": "ipython",
    "version": 3
   },
   "file_extension": ".py",
   "mimetype": "text/x-python",
   "name": "python",
   "nbconvert_exporter": "python",
   "pygments_lexer": "ipython3",
   "version": "3.11.0"
  }
 },
 "nbformat": 4,
 "nbformat_minor": 5
}
